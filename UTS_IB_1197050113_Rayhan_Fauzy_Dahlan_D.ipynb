{
  "nbformat": 4,
  "nbformat_minor": 0,
  "metadata": {
    "colab": {
      "name": "UTS_IB_1197050113_Rayhan Fauzy Dahlan_D.ipynb",
      "provenance": [],
      "authorship_tag": "ABX9TyPYtsC9YC+3QpMxq/8bqcEY",
      "include_colab_link": true
    },
    "kernelspec": {
      "name": "python3",
      "display_name": "Python 3"
    },
    "language_info": {
      "name": "python"
    }
  },
  "cells": [
    {
      "cell_type": "markdown",
      "metadata": {
        "id": "view-in-github",
        "colab_type": "text"
      },
      "source": [
        "<a href=\"https://colab.research.google.com/github/Khakang/Intelegensia-Buatan/blob/main/UTS_IB_1197050113_Rayhan_Fauzy_Dahlan_D.ipynb\" target=\"_parent\"><img src=\"https://colab.research.google.com/assets/colab-badge.svg\" alt=\"Open In Colab\"/></a>"
      ]
    },
    {
      "cell_type": "code",
      "metadata": {
        "id": "pIfX-bgzCi_I"
      },
      "source": [
        "# Nama : Rayhan Fauzy Dahlan\n",
        "# NIM  : 1197050113\n",
        "# Kelas: Teori D"
      ],
      "execution_count": null,
      "outputs": []
    },
    {
      "cell_type": "code",
      "metadata": {
        "id": "V3-raS5RDPT8"
      },
      "source": [
        "#masukkan variablenya\n",
        "e = 4000\n",
        "f = 300\n",
        "\n",
        "permintaan_a = 1000\n",
        "permintaan_z = 5000\n",
        "\n",
        "persediaan_b = 100\n",
        "persediaan_y = 600\n",
        "persediaan   = persediaan_y - persediaan_b\n",
        "\n",
        "produksi_r = 7000\n",
        "produksi_k = 2000"
      ],
      "execution_count": 21,
      "outputs": []
    },
    {
      "cell_type": "code",
      "metadata": {
        "id": "j9FL6vYKHSo3"
      },
      "source": [
        "def permintaan_naik(e):\n",
        "  nilai = (e-permintaan_a)/e\n",
        "  return nilai"
      ],
      "execution_count": 14,
      "outputs": []
    },
    {
      "cell_type": "code",
      "metadata": {
        "id": "bTc7rn1vH3KO"
      },
      "source": [
        "def permintaan_turun(e):\n",
        "  nilai = (permintaan_z-e)/e\n",
        "  return nilai"
      ],
      "execution_count": 3,
      "outputs": []
    },
    {
      "cell_type": "code",
      "metadata": {
        "colab": {
          "base_uri": "https://localhost:8080/"
        },
        "id": "fdDaipZWIVHV",
        "outputId": "30e673d9-5562-4414-e10b-0fbf83aa7ae1"
      },
      "source": [
        "print(\"Permintaan Naik = \",permintaan_naik(e))\n",
        "print(\"Permintaan Turun = \",permintaan_turun(e))"
      ],
      "execution_count": 15,
      "outputs": [
        {
          "output_type": "stream",
          "name": "stdout",
          "text": [
            "Permintaan Naik =  0.75\n",
            "Permintaan Turun =  0.25\n"
          ]
        }
      ]
    },
    {
      "cell_type": "code",
      "metadata": {
        "id": "1-fIKlu6Uk0l"
      },
      "source": [
        "def persediaan_banyak(f):\n",
        "  nilai = (f-persediaan_b)/persediaan\n",
        "  return nilai"
      ],
      "execution_count": 19,
      "outputs": []
    },
    {
      "cell_type": "code",
      "metadata": {
        "id": "0T1LMBipVGsR"
      },
      "source": [
        "def persediaan_sedikit(f):\n",
        "  nilai = (persediaan_y-f)/persediaan\n",
        "  return nilai"
      ],
      "execution_count": 17,
      "outputs": []
    },
    {
      "cell_type": "code",
      "metadata": {
        "colab": {
          "base_uri": "https://localhost:8080/"
        },
        "id": "sD3gTV1lVfnr",
        "outputId": "1b2313e0-7524-4adc-fcc4-23a851ee1887"
      },
      "source": [
        "print(\"Persediaan Banyak = \",persediaan_banyak(f))\n",
        "print(\"Persediaan Sedikit = \",persediaan_sedikit(f))"
      ],
      "execution_count": 20,
      "outputs": [
        {
          "output_type": "stream",
          "name": "stdout",
          "text": [
            "Persediaan Banyak =  0.4\n",
            "Persediaan Sedikit =  0.6\n"
          ]
        }
      ]
    },
    {
      "cell_type": "code",
      "metadata": {
        "colab": {
          "base_uri": "https://localhost:8080/"
        },
        "id": "XP-l8TzJWmG7",
        "outputId": "842ba859-b705-4ab2-cc30-0de590d470a7"
      },
      "source": [
        "#rule 1\n",
        "alpha_predikat1 = min(permintaan_turun(e), persediaan_banyak(f))\n",
        "z1             = produksi_r - alpha_predikat1 * (produksi_r - produksi_k)\n",
        "print(\"Alpha Predikat 1 = \", alpha_predikat1)\n",
        "print(\"\\nHasil z1 = \", int(z1))"
      ],
      "execution_count": 23,
      "outputs": [
        {
          "output_type": "stream",
          "name": "stdout",
          "text": [
            "Alpha Predikat 1 =  0.25\n",
            "\n",
            "Hasil z1 =  5750\n"
          ]
        }
      ]
    },
    {
      "cell_type": "code",
      "metadata": {
        "colab": {
          "base_uri": "https://localhost:8080/"
        },
        "id": "jX3C2OeTYmcR",
        "outputId": "f6804b12-b61c-4327-f91a-3603e6d1a7b4"
      },
      "source": [
        "#rule 2\n",
        "alpha_predikat2 = min(permintaan_turun(e), persediaan_sedikit(f))\n",
        "z2              = produksi_r - alpha_predikat2 * (produksi_r - produksi_k)\n",
        "print(\"Alpha Predikat 2 = \", alpha_predikat2)\n",
        "print(\"\\nHasil z2 = \", int(z2))"
      ],
      "execution_count": 24,
      "outputs": [
        {
          "output_type": "stream",
          "name": "stdout",
          "text": [
            "Alpha Predikat 2 =  0.25\n",
            "\n",
            "Hasil z2 =  5750\n"
          ]
        }
      ]
    },
    {
      "cell_type": "code",
      "metadata": {
        "colab": {
          "base_uri": "https://localhost:8080/"
        },
        "id": "iBsF6gqOaszd",
        "outputId": "d6aee008-a842-474f-e288-487ab6d68c08"
      },
      "source": [
        "#rule 3\n",
        "alpha_predikat3 = min(permintaan_naik(e), persediaan_sedikit(f))\n",
        "z3              = alpha_predikat3 * (produksi_r - produksi_k) + produksi_k\n",
        "print(\"Alpha Predikat 3 = \", alpha_predikat3)\n",
        "print(\"\\nHasil z3 = \", int(z3))"
      ],
      "execution_count": 31,
      "outputs": [
        {
          "output_type": "stream",
          "name": "stdout",
          "text": [
            "Alpha Predikat 3 =  0.6\n",
            "\n",
            "Hasil z3 =  5000\n"
          ]
        }
      ]
    },
    {
      "cell_type": "code",
      "metadata": {
        "colab": {
          "base_uri": "https://localhost:8080/"
        },
        "id": "bsNRUBHcbzaF",
        "outputId": "79823080-b6ce-4594-b1ca-6ebf7c7616f3"
      },
      "source": [
        "#rule 4\n",
        "alpha_predikat4 = min(permintaan_naik(e), persediaan_banyak(f))\n",
        "z4              = alpha_predikat4 * (produksi_r - produksi_k) + produksi_k\n",
        "print(\"Alpha Predikat 4 = \", alpha_predikat4)\n",
        "print(\"\\nHasil z4 = \", int(z4))"
      ],
      "execution_count": 30,
      "outputs": [
        {
          "output_type": "stream",
          "name": "stdout",
          "text": [
            "Alpha Predikat 4 =  0.4\n",
            "\n",
            "Hasil z4 =  4000\n"
          ]
        }
      ]
    },
    {
      "cell_type": "code",
      "metadata": {
        "colab": {
          "base_uri": "https://localhost:8080/"
        },
        "id": "etA4ZbsIciw4",
        "outputId": "35f2d375-0d37-428e-85d0-67f0432ce9be"
      },
      "source": [
        "#Z Akhir\n",
        "atas  = ((alpha_predikat1*z1)+(alpha_predikat2*z2)+(alpha_predikat3*z3)+(alpha_predikat4*z4))\n",
        "bawah = (alpha_predikat1+alpha_predikat2+alpha_predikat3+alpha_predikat4)\n",
        "z     = atas/bawah\n",
        "print(\"\\nJumlah makanan ABC yang di produksi adalah : \", int(z))"
      ],
      "execution_count": 32,
      "outputs": [
        {
          "output_type": "stream",
          "name": "stdout",
          "text": [
            "\n",
            "Jumlah makanan ABC yang di produksi adalah :  4983\n"
          ]
        }
      ]
    }
  ]
}